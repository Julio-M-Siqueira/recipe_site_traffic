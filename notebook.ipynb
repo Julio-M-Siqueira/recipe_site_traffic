{
 "cells": [
  {
   "cell_type": "markdown",
   "metadata": {},
   "source": [
    "#### Company Description\n",
    "Tasty Bytes is a recipes website. They charges montly subscription to put a full meal plan for families.\n",
    "\n",
    "#### Company Goal\n",
    "- Predict which recipes will lead to high traffic in their website when shown at the home page.\n",
    "- Wants to predict which recipe will be popular 80%, preventing to show unpopular recipes at their website.\n",
    "\n",
    "#### Data Validation\n",
    "This data contains 947 rows, 8 columns. The following description of the data was given me:\n",
    "- **recipe**: Numeric, unique identifier of recipe.\n",
    "- **calories**: Numeric, number of calories.\n",
    "- **carbohydrate**: Numeric, amount of carbohydrates in grams.\n",
    "- **sugar**: Numeric, amount of sugar in grams.\n",
    "- **protein**: Numeric, amount of protein in grams.\n",
    "- **category**: Character, type of recipe. Recipes are listed in one of ten possible groupings (Lunch/Snacks, Beverages, Potato, Vegetable, Meat, Chicken, Pork, Dessert, Breakfast, One Dish Meal).\n",
    "- **servings**: Numeric, number of servings for the recipe.\n",
    "- **high_traffic**: Character, if the traffic to the site was high when this recipe was shown, this is market with \"High\".\n",
    "\n",
    "\n",
    "#### Data Changes\n",
    "- The columns in respect to nutrients: **calories**, **carbohydrate**, **sugar**, and **protein** was with about 5% of total observations as missing values. I dropped these rows.\n",
    "- The **category** column was with one more category than expected. I replaced all Chicken Breast values to Chicken.\n",
    "- The **servings** column was with the wrong data type due some text following the number of servings. I removed these text and converted the column to integer.\n",
    "- The **high_traffic** was full of missing values. Since this is a binary column, I transformed to 1: High trafic and 0: Not High Trafic.\n"
   ]
  },
  {
   "cell_type": "code",
   "execution_count": 94,
   "metadata": {},
   "outputs": [],
   "source": [
    "import pandas as pd\n",
    "import numpy as np\n",
    "\n",
    "import matplotlib.pyplot as plt\n",
    "import seaborn as sns\n",
    "plt.style.use('ggplot')"
   ]
  },
  {
   "cell_type": "code",
   "execution_count": 95,
   "metadata": {},
   "outputs": [
    {
     "data": {
      "text/html": [
       "<div>\n",
       "<style scoped>\n",
       "    .dataframe tbody tr th:only-of-type {\n",
       "        vertical-align: middle;\n",
       "    }\n",
       "\n",
       "    .dataframe tbody tr th {\n",
       "        vertical-align: top;\n",
       "    }\n",
       "\n",
       "    .dataframe thead th {\n",
       "        text-align: right;\n",
       "    }\n",
       "</style>\n",
       "<table border=\"1\" class=\"dataframe\">\n",
       "  <thead>\n",
       "    <tr style=\"text-align: right;\">\n",
       "      <th></th>\n",
       "      <th>recipe</th>\n",
       "      <th>calories</th>\n",
       "      <th>carbohydrate</th>\n",
       "      <th>sugar</th>\n",
       "      <th>protein</th>\n",
       "      <th>category</th>\n",
       "      <th>servings</th>\n",
       "      <th>high_traffic</th>\n",
       "    </tr>\n",
       "  </thead>\n",
       "  <tbody>\n",
       "    <tr>\n",
       "      <th>0</th>\n",
       "      <td>1</td>\n",
       "      <td>NaN</td>\n",
       "      <td>NaN</td>\n",
       "      <td>NaN</td>\n",
       "      <td>NaN</td>\n",
       "      <td>Pork</td>\n",
       "      <td>6</td>\n",
       "      <td>High</td>\n",
       "    </tr>\n",
       "    <tr>\n",
       "      <th>1</th>\n",
       "      <td>2</td>\n",
       "      <td>35.48</td>\n",
       "      <td>38.56</td>\n",
       "      <td>0.66</td>\n",
       "      <td>0.92</td>\n",
       "      <td>Potato</td>\n",
       "      <td>4</td>\n",
       "      <td>High</td>\n",
       "    </tr>\n",
       "    <tr>\n",
       "      <th>2</th>\n",
       "      <td>3</td>\n",
       "      <td>914.28</td>\n",
       "      <td>42.68</td>\n",
       "      <td>3.09</td>\n",
       "      <td>2.88</td>\n",
       "      <td>Breakfast</td>\n",
       "      <td>1</td>\n",
       "      <td>NaN</td>\n",
       "    </tr>\n",
       "    <tr>\n",
       "      <th>3</th>\n",
       "      <td>4</td>\n",
       "      <td>97.03</td>\n",
       "      <td>30.56</td>\n",
       "      <td>38.63</td>\n",
       "      <td>0.02</td>\n",
       "      <td>Beverages</td>\n",
       "      <td>4</td>\n",
       "      <td>High</td>\n",
       "    </tr>\n",
       "    <tr>\n",
       "      <th>4</th>\n",
       "      <td>5</td>\n",
       "      <td>27.05</td>\n",
       "      <td>1.85</td>\n",
       "      <td>0.80</td>\n",
       "      <td>0.53</td>\n",
       "      <td>Beverages</td>\n",
       "      <td>4</td>\n",
       "      <td>NaN</td>\n",
       "    </tr>\n",
       "    <tr>\n",
       "      <th>...</th>\n",
       "      <td>...</td>\n",
       "      <td>...</td>\n",
       "      <td>...</td>\n",
       "      <td>...</td>\n",
       "      <td>...</td>\n",
       "      <td>...</td>\n",
       "      <td>...</td>\n",
       "      <td>...</td>\n",
       "    </tr>\n",
       "    <tr>\n",
       "      <th>942</th>\n",
       "      <td>943</td>\n",
       "      <td>1161.00</td>\n",
       "      <td>5.31</td>\n",
       "      <td>22.39</td>\n",
       "      <td>44.22</td>\n",
       "      <td>Lunch/Snacks</td>\n",
       "      <td>2</td>\n",
       "      <td>NaN</td>\n",
       "    </tr>\n",
       "    <tr>\n",
       "      <th>943</th>\n",
       "      <td>944</td>\n",
       "      <td>NaN</td>\n",
       "      <td>NaN</td>\n",
       "      <td>NaN</td>\n",
       "      <td>NaN</td>\n",
       "      <td>Potato</td>\n",
       "      <td>2</td>\n",
       "      <td>High</td>\n",
       "    </tr>\n",
       "    <tr>\n",
       "      <th>944</th>\n",
       "      <td>945</td>\n",
       "      <td>951.74</td>\n",
       "      <td>29.42</td>\n",
       "      <td>3.57</td>\n",
       "      <td>13.87</td>\n",
       "      <td>Pork</td>\n",
       "      <td>2</td>\n",
       "      <td>High</td>\n",
       "    </tr>\n",
       "    <tr>\n",
       "      <th>945</th>\n",
       "      <td>946</td>\n",
       "      <td>266.61</td>\n",
       "      <td>35.77</td>\n",
       "      <td>0.97</td>\n",
       "      <td>8.07</td>\n",
       "      <td>Potato</td>\n",
       "      <td>6</td>\n",
       "      <td>High</td>\n",
       "    </tr>\n",
       "    <tr>\n",
       "      <th>946</th>\n",
       "      <td>947</td>\n",
       "      <td>184.56</td>\n",
       "      <td>45.21</td>\n",
       "      <td>6.20</td>\n",
       "      <td>0.03</td>\n",
       "      <td>Beverages</td>\n",
       "      <td>4</td>\n",
       "      <td>NaN</td>\n",
       "    </tr>\n",
       "  </tbody>\n",
       "</table>\n",
       "<p>947 rows × 8 columns</p>\n",
       "</div>"
      ],
      "text/plain": [
       "     recipe  calories  carbohydrate  sugar  protein      category servings   \n",
       "0         1       NaN           NaN    NaN      NaN          Pork        6  \\\n",
       "1         2     35.48         38.56   0.66     0.92        Potato        4   \n",
       "2         3    914.28         42.68   3.09     2.88     Breakfast        1   \n",
       "3         4     97.03         30.56  38.63     0.02     Beverages        4   \n",
       "4         5     27.05          1.85   0.80     0.53     Beverages        4   \n",
       "..      ...       ...           ...    ...      ...           ...      ...   \n",
       "942     943   1161.00          5.31  22.39    44.22  Lunch/Snacks        2   \n",
       "943     944       NaN           NaN    NaN      NaN        Potato        2   \n",
       "944     945    951.74         29.42   3.57    13.87          Pork        2   \n",
       "945     946    266.61         35.77   0.97     8.07        Potato        6   \n",
       "946     947    184.56         45.21   6.20     0.03     Beverages        4   \n",
       "\n",
       "    high_traffic  \n",
       "0           High  \n",
       "1           High  \n",
       "2            NaN  \n",
       "3           High  \n",
       "4            NaN  \n",
       "..           ...  \n",
       "942          NaN  \n",
       "943         High  \n",
       "944         High  \n",
       "945         High  \n",
       "946          NaN  \n",
       "\n",
       "[947 rows x 8 columns]"
      ]
     },
     "execution_count": 95,
     "metadata": {},
     "output_type": "execute_result"
    }
   ],
   "source": [
    "data = pd.read_csv('Data/recipe_site_traffic_2212.csv')\n",
    "data"
   ]
  },
  {
   "cell_type": "code",
   "execution_count": 96,
   "metadata": {},
   "outputs": [
    {
     "name": "stdout",
     "output_type": "stream",
     "text": [
      "<class 'pandas.core.frame.DataFrame'>\n",
      "RangeIndex: 947 entries, 0 to 946\n",
      "Data columns (total 8 columns):\n",
      " #   Column        Non-Null Count  Dtype  \n",
      "---  ------        --------------  -----  \n",
      " 0   recipe        947 non-null    int64  \n",
      " 1   calories      895 non-null    float64\n",
      " 2   carbohydrate  895 non-null    float64\n",
      " 3   sugar         895 non-null    float64\n",
      " 4   protein       895 non-null    float64\n",
      " 5   category      947 non-null    object \n",
      " 6   servings      947 non-null    object \n",
      " 7   high_traffic  574 non-null    object \n",
      "dtypes: float64(4), int64(1), object(3)\n",
      "memory usage: 59.3+ KB\n"
     ]
    }
   ],
   "source": [
    "data.info()"
   ]
  },
  {
   "cell_type": "code",
   "execution_count": 97,
   "metadata": {},
   "outputs": [
    {
     "data": {
      "text/html": [
       "<div>\n",
       "<style scoped>\n",
       "    .dataframe tbody tr th:only-of-type {\n",
       "        vertical-align: middle;\n",
       "    }\n",
       "\n",
       "    .dataframe tbody tr th {\n",
       "        vertical-align: top;\n",
       "    }\n",
       "\n",
       "    .dataframe thead th {\n",
       "        text-align: right;\n",
       "    }\n",
       "</style>\n",
       "<table border=\"1\" class=\"dataframe\">\n",
       "  <thead>\n",
       "    <tr style=\"text-align: right;\">\n",
       "      <th></th>\n",
       "      <th>recipe</th>\n",
       "      <th>calories</th>\n",
       "      <th>carbohydrate</th>\n",
       "      <th>sugar</th>\n",
       "      <th>protein</th>\n",
       "    </tr>\n",
       "  </thead>\n",
       "  <tbody>\n",
       "    <tr>\n",
       "      <th>count</th>\n",
       "      <td>947.000000</td>\n",
       "      <td>895.000000</td>\n",
       "      <td>895.000000</td>\n",
       "      <td>895.000000</td>\n",
       "      <td>895.000000</td>\n",
       "    </tr>\n",
       "    <tr>\n",
       "      <th>mean</th>\n",
       "      <td>474.000000</td>\n",
       "      <td>435.939196</td>\n",
       "      <td>35.069676</td>\n",
       "      <td>9.046547</td>\n",
       "      <td>24.149296</td>\n",
       "    </tr>\n",
       "    <tr>\n",
       "      <th>std</th>\n",
       "      <td>273.519652</td>\n",
       "      <td>453.020997</td>\n",
       "      <td>43.949032</td>\n",
       "      <td>14.679176</td>\n",
       "      <td>36.369739</td>\n",
       "    </tr>\n",
       "    <tr>\n",
       "      <th>min</th>\n",
       "      <td>1.000000</td>\n",
       "      <td>0.140000</td>\n",
       "      <td>0.030000</td>\n",
       "      <td>0.010000</td>\n",
       "      <td>0.000000</td>\n",
       "    </tr>\n",
       "    <tr>\n",
       "      <th>25%</th>\n",
       "      <td>237.500000</td>\n",
       "      <td>110.430000</td>\n",
       "      <td>8.375000</td>\n",
       "      <td>1.690000</td>\n",
       "      <td>3.195000</td>\n",
       "    </tr>\n",
       "    <tr>\n",
       "      <th>50%</th>\n",
       "      <td>474.000000</td>\n",
       "      <td>288.550000</td>\n",
       "      <td>21.480000</td>\n",
       "      <td>4.550000</td>\n",
       "      <td>10.800000</td>\n",
       "    </tr>\n",
       "    <tr>\n",
       "      <th>75%</th>\n",
       "      <td>710.500000</td>\n",
       "      <td>597.650000</td>\n",
       "      <td>44.965000</td>\n",
       "      <td>9.800000</td>\n",
       "      <td>30.200000</td>\n",
       "    </tr>\n",
       "    <tr>\n",
       "      <th>max</th>\n",
       "      <td>947.000000</td>\n",
       "      <td>3633.160000</td>\n",
       "      <td>530.420000</td>\n",
       "      <td>148.750000</td>\n",
       "      <td>363.360000</td>\n",
       "    </tr>\n",
       "  </tbody>\n",
       "</table>\n",
       "</div>"
      ],
      "text/plain": [
       "           recipe     calories  carbohydrate       sugar     protein\n",
       "count  947.000000   895.000000    895.000000  895.000000  895.000000\n",
       "mean   474.000000   435.939196     35.069676    9.046547   24.149296\n",
       "std    273.519652   453.020997     43.949032   14.679176   36.369739\n",
       "min      1.000000     0.140000      0.030000    0.010000    0.000000\n",
       "25%    237.500000   110.430000      8.375000    1.690000    3.195000\n",
       "50%    474.000000   288.550000     21.480000    4.550000   10.800000\n",
       "75%    710.500000   597.650000     44.965000    9.800000   30.200000\n",
       "max    947.000000  3633.160000    530.420000  148.750000  363.360000"
      ]
     },
     "execution_count": 97,
     "metadata": {},
     "output_type": "execute_result"
    }
   ],
   "source": [
    "#Check for negative values in data\n",
    "data.describe()"
   ]
  },
  {
   "cell_type": "code",
   "execution_count": 98,
   "metadata": {},
   "outputs": [
    {
     "name": "stdout",
     "output_type": "stream",
     "text": [
      "Number of remaing rows when dropping rows where all nutrients are missing:  895\n"
     ]
    }
   ],
   "source": [
    "#Check for missing values\n",
    "#Check for nutrient columns\n",
    "nutrient_cols = ['calories', 'carbohydrate', 'sugar', 'protein']\n",
    "missing_data = data[data[nutrient_cols].isna().all(axis=1)]\n",
    "print('Number of remaing rows when dropping rows where all nutrients are missing: ',\n",
    "       len(data)-len(missing_data))\n",
    "data.dropna(subset=nutrient_cols, inplace=True)"
   ]
  },
  {
   "cell_type": "code",
   "execution_count": 99,
   "metadata": {},
   "outputs": [
    {
     "name": "stdout",
     "output_type": "stream",
     "text": [
      "11\n",
      "['Potato' 'Breakfast' 'Beverages' 'One Dish Meal' 'Chicken Breast'\n",
      " 'Lunch/Snacks' 'Pork' 'Chicken' 'Vegetable' 'Meat' 'Dessert']\n",
      "10\n",
      "['Potato' 'Breakfast' 'Beverages' 'One Dish Meal' 'Chicken' 'Lunch/Snacks'\n",
      " 'Pork' 'Vegetable' 'Meat' 'Dessert']\n"
     ]
    }
   ],
   "source": [
    "#Check for category\n",
    "print(data['category'].nunique())\n",
    "print(data['category'].unique())\n",
    "data['category'] = data['category'].str.replace('Chicken Breast', 'Chicken')\n",
    "print(data['category'].nunique())\n",
    "print(data['category'].unique())"
   ]
  },
  {
   "cell_type": "code",
   "execution_count": 100,
   "metadata": {},
   "outputs": [
    {
     "name": "stdout",
     "output_type": "stream",
     "text": [
      "['4' '1' '2' '6' '4 as a snack' '6 as a snack']\n",
      "[4 1 2 6]\n"
     ]
    }
   ],
   "source": [
    "#Check for servings\n",
    "print(data['servings'].unique())\n",
    "data['servings'] = data['servings'].str.replace(r'\\D+', '', regex=True)\n",
    "data['servings'] = data['servings'].astype('int')\n",
    "print(data['servings'].unique())"
   ]
  },
  {
   "cell_type": "code",
   "execution_count": 101,
   "metadata": {},
   "outputs": [
    {
     "name": "stdout",
     "output_type": "stream",
     "text": [
      "['High' nan]\n",
      "[1 0]\n"
     ]
    }
   ],
   "source": [
    "#Check for High Traffic\n",
    "print(data['high_traffic'].unique())\n",
    "data['high_traffic'] = np.where(data['high_traffic']=='High', 1, 0)\n",
    "print(data['high_traffic'].unique())"
   ]
  },
  {
   "cell_type": "markdown",
   "metadata": {},
   "source": [
    "#### Exploratory Analysis\n"
   ]
  },
  {
   "cell_type": "code",
   "execution_count": 122,
   "metadata": {},
   "outputs": [
    {
     "data": {
      "image/png": "[encoded data removed]",
      "text/plain": [
       "<Figure size 1200x1200 with 4 Axes>"
      ]
     },
     "metadata": {},
     "output_type": "display_data"
    }
   ],
   "source": [
    "fig, axes = plt.subplots(2, 2, figsize=(12, 12))\n",
    "sns.barplot(x=data['high_traffic'], y=data['calories'], color='gray', ax=axes[0, 0]).set(title='Calories Distribution by High Traffic')\n",
    "sns.barplot(x=data['high_traffic'], y=data['carbohydrate'], color='gray', ax=axes[0, 1]).set(title='Carbohydrate Distribution by High Traffic')\n",
    "sns.barplot(x=data['high_traffic'], y=data['sugar'], color='gray', ax=axes[1, 0]).set(title='Sugar Distribution by High Traffic')\n",
    "sns.barplot(x=data['high_traffic'], y=data['protein'], color='gray', ax=axes[1, 1]).set(title='Protein Distribution by High Traffic')\n",
    "plt.show()"
   ]
  }
 ],
 "metadata": {
  "kernelspec": {
   "display_name": "Python 3",
   "language": "python",
   "name": "python3"
  },
  "language_info": {
   "codemirror_mode": {
    "name": "ipython",
    "version": 3
   },
   "file_extension": ".py",
   "mimetype": "text/x-python",
   "name": "python",
   "nbconvert_exporter": "python",
   "pygments_lexer": "ipython3",
   "version": "3.11.3"
  }
 },
 "nbformat": 4,
 "nbformat_minor": 2
}
